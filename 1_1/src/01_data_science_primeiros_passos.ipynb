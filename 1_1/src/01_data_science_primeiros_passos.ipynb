{
  "nbformat": 4,
  "nbformat_minor": 0,
  "metadata": {
    "colab": {
      "name": "01_data_science_primeiros_passos.ipynb",
      "provenance": [],
      "collapsed_sections": [
        "5Eo98dsepXXU",
        "_UobqZRIpys-",
        "yczfkGSvp5lr",
        "bQDUwAw-p_IT",
        "yRa_e-QrqGk8",
        "49S3zVVKqNXy"
      ]
    },
    "kernelspec": {
      "name": "python3",
      "display_name": "Python 3"
    },
    "language_info": {
      "name": "python"
    }
  },
  "cells": [
    {
      "cell_type": "code",
      "metadata": {
        "id": "8QCF3-MLB9Tc"
      },
      "source": [
        "import pandas as pd\n",
        "import seaborn as sns\n",
        "import matplotlib.pyplot as plt\n",
        "\n",
        "# Datasets:\n",
        "# https://github.com/alura-cursos/introducao-a-data-science/archive/aula0.zip\n",
        "# https://www.kaggle.com/tmdb/tmdb-movie-metadata/"
      ],
      "execution_count": null,
      "outputs": []
    },
    {
      "cell_type": "markdown",
      "metadata": {
        "id": "5Eo98dsepXXU"
      },
      "source": [
        "# 1.1 - Dados e Visualizações\n"
      ]
    },
    {
      "cell_type": "code",
      "metadata": {
        "colab": {
          "base_uri": "https://localhost:8080/",
          "height": 998
        },
        "id": "WIv2tZ9kf1Ul",
        "outputId": "d6e2c677-a43c-47e4-8341-2de99459bcd3"
      },
      "source": [
        "#------> 1.1 - Dados e Visualizações\n",
        "\n",
        "notas = pd.read_csv('../dados/ratings.csv')\n",
        "notas.columns = ['usuarioId', 'filmeId', 'nota', 'momento']\n",
        "print(notas.head())\n",
        "print('\\n')\n",
        "\n",
        "notas.nota.value_counts()\n",
        "\n",
        "print('Média', notas.nota.mean())\n",
        "print('Mediana', notas.nota.median())\n",
        "print('\\n')\n",
        "print(notas.nota.describe())\n",
        "print('\\n')\n",
        "\n",
        "plt.figure()\n",
        "notas.nota.plot(kind='hist')\n",
        "\n",
        "plt.figure()\n",
        "sns.boxplot(notas.nota)\n"
      ],
      "execution_count": null,
      "outputs": [
        {
          "output_type": "stream",
          "name": "stdout",
          "text": [
            "   usuarioId  filmeId  nota    momento\n",
            "0          1        1   4.0  964982703\n",
            "1          1        3   4.0  964981247\n",
            "2          1        6   4.0  964982224\n",
            "3          1       47   5.0  964983815\n",
            "4          1       50   5.0  964982931\n",
            "\n",
            "\n",
            "Média 3.501556983616962\n",
            "Mediana 3.5\n",
            "\n",
            "\n",
            "count    100836.000000\n",
            "mean          3.501557\n",
            "std           1.042529\n",
            "min           0.500000\n",
            "25%           3.000000\n",
            "50%           3.500000\n",
            "75%           4.000000\n",
            "max           5.000000\n",
            "Name: nota, dtype: float64\n",
            "\n",
            "\n"
          ]
        },
        {
          "output_type": "stream",
          "name": "stderr",
          "text": [
            "/usr/local/lib/python3.7/dist-packages/seaborn/_decorators.py:43: FutureWarning: Pass the following variable as a keyword arg: x. From version 0.12, the only valid positional argument will be `data`, and passing other arguments without an explicit keyword will result in an error or misinterpretation.\n",
            "  FutureWarning\n"
          ]
        },
        {
          "output_type": "execute_result",
          "data": {
            "text/plain": [
              "<matplotlib.axes._subplots.AxesSubplot at 0x7f0862d99490>"
            ]
          },
          "metadata": {},
          "execution_count": 24
        },
        {
          "output_type": "display_data",
          "data": {
            "image/png": "[encoded data removed]",
            "text/plain": [
              "<Figure size 432x288 with 1 Axes>"
            ]
          },
          "metadata": {
            "needs_background": "light"
          }
        },
        {
          "output_type": "display_data",
          "data": {
            "image/png": "[encoded data removed]",
            "text/plain": [
              "<Figure size 432x288 with 1 Axes>"
            ]
          },
          "metadata": {
            "needs_background": "light"
          }
        }
      ]
    },
    {
      "cell_type": "markdown",
      "metadata": {
        "id": "_UobqZRIpys-"
      },
      "source": [
        "# 1.2 - Análise Exploratória"
      ]
    },
    {
      "cell_type": "code",
      "metadata": {
        "colab": {
          "base_uri": "https://localhost:8080/"
        },
        "id": "i4ZbqGBH1ap_",
        "outputId": "7c1d9fbf-865d-4362-e3e4-bf97a770709c"
      },
      "source": [
        "#------> 1.2 - Análise Exploratória\n",
        "\n",
        "filmes = pd.read_csv('../dados/movies.csv')\n",
        "filmes.columns = ['filmeId', 'titulo', 'generos']\n",
        "\n",
        "nota_media_Id1 = notas.query('filmeId==1').mean().nota\n",
        "medias_por_filme = notas.groupby('filmeId').mean().nota\n",
        "\n",
        "print(medias_por_filme.head(), '\\n')\n",
        "print(medias_por_filme.describe(), '\\n')\n",
        "print('Nota média para o', filmes.query('filmeId==1').titulo.item(), ':', float(nota_media_Id1))\n",
        "\n",
        "plt.figure()\n",
        "medias_por_filme.plot(kind='hist')\n",
        "\n",
        "plt.figure()\n",
        "plt.hist(medias_por_filme)\n",
        "plt.title('Histograma das médias dos filmes')\n",
        "\n",
        "plt.figure(figsize=(5,8))\n",
        "sns.boxplot(y=medias_por_filme)\n",
        "pass"
      ],
      "execution_count": null,
      "outputs": [
        {
          "output_type": "stream",
          "name": "stdout",
          "text": [
            "filmeId\n",
            "1    3.920930\n",
            "2    3.431818\n",
            "3    3.259615\n",
            "4    2.357143\n",
            "5    3.071429\n",
            "Name: nota, dtype: float64 \n",
            "\n",
            "count    9724.000000\n",
            "mean        3.262448\n",
            "std         0.869874\n",
            "min         0.500000\n",
            "25%         2.800000\n",
            "50%         3.416667\n",
            "75%         3.911765\n",
            "max         5.000000\n",
            "Name: nota, dtype: float64 \n",
            "\n",
            "Nota média para o Toy Story (1995) : 3.9209302325581397\n"
          ]
        },
        {
          "output_type": "display_data",
          "data": {
            "image/png": "[encoded data removed]",
            "text/plain": [
              "<Figure size 432x288 with 1 Axes>"
            ]
          },
          "metadata": {
            "needs_background": "light"
          }
        },
        {
          "output_type": "display_data",
          "data": {
            "image/png": "[encoded data removed]",
            "text/plain": [
              "<Figure size 432x288 with 1 Axes>"
            ]
          },
          "metadata": {
            "needs_background": "light"
          }
        },
        {
          "output_type": "display_data",
          "data": {
            "image/png": "[encoded data removed]",
            "text/plain": [
              "<Figure size 360x576 with 1 Axes>"
            ]
          },
          "metadata": {
            "needs_background": "light"
          }
        }
      ]
    },
    {
      "cell_type": "markdown",
      "metadata": {
        "id": "yczfkGSvp5lr"
      },
      "source": [
        "# 1.3 - Variáveis"
      ]
    },
    {
      "cell_type": "code",
      "metadata": {
        "colab": {
          "base_uri": "https://localhost:8080/"
        },
        "id": "b63I72YVEycu",
        "outputId": "04d2ebec-082f-4c12-be3b-f52993ffb137"
      },
      "source": [
        "#------> 1.3 - Variáveis\n",
        "\n",
        "tmdb = pd.read_csv('../dados/tmdb_5000_movies.csv')\n",
        "print(tmdb.vote_average.unique())"
      ],
      "execution_count": null,
      "outputs": [
        {
          "output_type": "stream",
          "name": "stdout",
          "text": [
            "[ 7.2  6.9  6.3  7.6  6.1  5.9  7.4  7.3  5.7  5.4  7.   6.5  6.4  6.2\n",
            "  7.1  5.8  6.6  7.5  5.5  6.7  6.8  6.   5.1  7.8  5.6  5.2  8.2  7.7\n",
            "  5.3  8.   4.8  4.9  7.9  8.1  4.7  5.   4.2  4.4  4.1  3.7  3.6  3.\n",
            "  3.9  4.3  4.5  3.4  4.6  8.3  3.5  4.   2.3  3.2  0.   3.8  2.9  8.5\n",
            "  1.9  3.1  3.3  2.2  0.5  9.3  8.4  2.7 10.   1.   2.   2.8  9.5  2.6\n",
            "  2.4]\n"
          ]
        }
      ]
    },
    {
      "cell_type": "markdown",
      "metadata": {
        "id": "bQDUwAw-p_IT"
      },
      "source": [
        "# 1.4 - Data Visualization"
      ]
    },
    {
      "cell_type": "code",
      "metadata": {
        "colab": {
          "base_uri": "https://localhost:8080/"
        },
        "id": "mEhae-HZJSYS",
        "outputId": "24c8261c-3ac6-46d6-a6fb-a48e1afbdd79"
      },
      "source": [
        "#------> 1.4 - Data Visualization\n",
        "\n",
        "contagem_de_lingua = tmdb['original_language'].value_counts().to_frame().reset_index()\n",
        "contagem_de_lingua.columns = ['original_language', 'total']\n",
        "\n",
        "sns.barplot(x='original_language', y='total', data=contagem_de_lingua)\n",
        "sns.catplot(x='original_language', kind='count', data=tmdb)\n",
        "\n",
        "pass"
      ],
      "execution_count": null,
      "outputs": [
        {
          "output_type": "display_data",
          "data": {
            "image/png": "[encoded data removed]",
            "text/plain": [
              "<Figure size 432x288 with 1 Axes>"
            ]
          },
          "metadata": {
            "needs_background": "light"
          }
        },
        {
          "output_type": "display_data",
          "data": {
            "image/png": "[encoded data removed]",
            "text/plain": [
              "<Figure size 360x360 with 1 Axes>"
            ]
          },
          "metadata": {
            "needs_background": "light"
          }
        }
      ]
    },
    {
      "cell_type": "code",
      "metadata": {
        "colab": {
          "base_uri": "https://localhost:8080/"
        },
        "id": "r8XOq55ZuCMF",
        "outputId": "6947253e-2c56-4f2b-d760-f290867f5610"
      },
      "source": [
        "total_por_lingua = tmdb.original_language.value_counts()\n",
        "total_geral = total_por_lingua.sum()\n",
        "total_de_ingles = total_por_lingua.loc['en']\n",
        "total_do_resto = total_geral - total_de_ingles\n",
        "dados = {\n",
        "    'lingua': ['ingles', 'outras'],\n",
        "    'total': [total_de_ingles, total_do_resto]\n",
        "}\n",
        "dados = pd.DataFrame(dados)\n",
        "sns.barplot(x='lingua', y='total', data=dados)\n",
        "\n",
        "filmes_sem_lingua_original_em_ingles = tmdb.query(\"original_language != 'en'\")\n",
        "sns.catplot(x='original_language', kind='count', data=filmes_sem_lingua_original_em_ingles)\n",
        "\n",
        "pass"
      ],
      "execution_count": null,
      "outputs": [
        {
          "output_type": "display_data",
          "data": {
            "image/png": "[encoded data removed]",
            "text/plain": [
              "<Figure size 432x288 with 1 Axes>"
            ]
          },
          "metadata": {
            "needs_background": "light"
          }
        },
        {
          "output_type": "display_data",
          "data": {
            "image/png": "[encoded data removed]",
            "text/plain": [
              "<Figure size 360x360 with 1 Axes>"
            ]
          },
          "metadata": {
            "needs_background": "light"
          }
        }
      ]
    },
    {
      "cell_type": "markdown",
      "metadata": {
        "id": "yRa_e-QrqGk8"
      },
      "source": [
        "# 1.5 - Continuando com Visualização"
      ]
    },
    {
      "cell_type": "code",
      "metadata": {
        "colab": {
          "base_uri": "https://localhost:8080/"
        },
        "id": "yosgsvFJubfB",
        "outputId": "8d3ed6ac-a396-49e9-9f0b-cd07a2803ee5"
      },
      "source": [
        "total_por_lingua_de_outros_filmes = tmdb.query(\"original_language != 'en'\").original_language.value_counts()\n",
        "sns.catplot(x='original_language', kind='count', data=filmes_sem_lingua_original_em_ingles,\n",
        "            aspect=2, palette='mako', order=total_por_lingua_de_outros_filmes.index)\n",
        "pass"
      ],
      "execution_count": null,
      "outputs": [
        {
          "output_type": "display_data",
          "data": {
            "image/png": "[encoded data removed]",
            "text/plain": [
              "<Figure size 720x360 with 1 Axes>"
            ]
          },
          "metadata": {
            "needs_background": "light"
          }
        }
      ]
    },
    {
      "cell_type": "markdown",
      "metadata": {
        "id": "49S3zVVKqNXy"
      },
      "source": [
        "#1.6 - Dados e Estatística"
      ]
    },
    {
      "cell_type": "code",
      "metadata": {
        "colab": {
          "base_uri": "https://localhost:8080/",
          "height": 672
        },
        "id": "svNbpEZu1klT",
        "outputId": "9be8baa4-c02d-47a2-979a-4d86e86ce208"
      },
      "source": [
        "print(notas.head(2))\n",
        "\n",
        "notas_do_toy_story = notas.query('filmeId==1')\n",
        "notas_do_jumanji = notas.query('filmeId==2')\n",
        "\n",
        "print('\\n')\n",
        "print('Nota média do Toy Story %.2f' % notas_do_toy_story.nota.mean())\n",
        "print('Nota média do Jumanji %.2f' % notas_do_jumanji.nota.mean())\n",
        "print('\\n')\n",
        "print('Nota mediana do Toy Story %.2f' % notas_do_toy_story.nota.median())\n",
        "print('Nota mediana do Toy Story %.2f' % notas_do_jumanji.nota.median())\n",
        "print('\\n')\n",
        "\n",
        "plt.figure(figsize=(10,6))\n",
        "plt.boxplot([notas_do_toy_story.nota.to_numpy(), notas_do_jumanji.nota.to_numpy()])\n",
        "plt.ylabel('Notas')\n",
        "plt.xticks(ticks=[1, 2], labels=['Toy Story', 'Jumanji'])\n",
        "plt.close"
      ],
      "execution_count": null,
      "outputs": [
        {
          "output_type": "stream",
          "name": "stdout",
          "text": [
            "   usuarioId  filmeId  nota    momento\n",
            "0          1        1   4.0  964982703\n",
            "1          1        3   4.0  964981247\n",
            "\n",
            "\n",
            "Nota média do Toy Story 3.92\n",
            "Nota média do Jumanji 3.43\n",
            "\n",
            "\n",
            "Nota mediana do Toy Story 4.00\n",
            "Nota mediana do Toy Story 3.50\n",
            "\n",
            "\n"
          ]
        },
        {
          "output_type": "stream",
          "name": "stderr",
          "text": [
            "/usr/local/lib/python3.7/dist-packages/numpy/core/_asarray.py:83: VisibleDeprecationWarning: Creating an ndarray from ragged nested sequences (which is a list-or-tuple of lists-or-tuples-or ndarrays with different lengths or shapes) is deprecated. If you meant to do this, you must specify 'dtype=object' when creating the ndarray\n",
            "  return array(a, dtype, copy=False, order=order)\n"
          ]
        },
        {
          "output_type": "execute_result",
          "data": {
            "text/plain": [
              "<function matplotlib.pyplot.close>"
            ]
          },
          "metadata": {},
          "execution_count": 25
        },
        {
          "output_type": "display_data",
          "data": {
            "image/png": "[encoded data removed]",
            "text/plain": [
              "<Figure size 720x432 with 1 Axes>"
            ]
          },
          "metadata": {
            "needs_background": "light"
          }
        }
      ]
    }
  ]
}
{
  "nbformat": 4,
  "nbformat_minor": 0,
  "metadata": {
    "colab": {
      "name": "02_python_pandas_tratando_e_analisando_dados.ipynb",
      "provenance": [],
      "collapsed_sections": [
        "SMOugwW89wdL",
        "l9PZbmJThHrl",
        "YlzJZBpB5AQt",
        "XYRInuMbBe2D",
        "wI1LIRQKYISy",
        "UOMPTcc5Ql0y"
      ]
    },
    "kernelspec": {
      "name": "python3",
      "display_name": "Python 3"
    },
    "language_info": {
      "name": "python"
    }
  },
  "cells": [
    {
      "cell_type": "code",
      "metadata": {
        "id": "pk1eUYWC9l57"
      },
      "source": [
        "import pandas as pd\n",
        "import matplotlib.pyplot as plt\n",
        "import numpy as np\n",
        "\n",
        "plt.rc('figure', figsize = (12,8))\n",
        "# Datasets\n",
        "# https://s3.amazonaws.com/caelum-online-public/856-introducao-python-pandas/02/aluguel.csv.zip\n",
        "# https://s3.amazonaws.com/caelum-online-public/856-introducao-python-pandas/02/extras.zip"
      ],
      "execution_count": null,
      "outputs": []
    },
    {
      "cell_type": "markdown",
      "metadata": {
        "id": "SMOugwW89wdL"
      },
      "source": [
        "# 2.2 - Importando Dados"
      ]
    },
    {
      "cell_type": "code",
      "metadata": {
        "colab": {
          "base_uri": "https://localhost:8080/"
        },
        "id": "V7TM2HLd9xM7",
        "outputId": "65b298fa-af59-4969-c18f-68ecc9014202"
      },
      "source": [
        "dados = pd.read_csv('../dados/aluguel.csv', sep=';')\n",
        "\n",
        "tipos_de_dados = pd.DataFrame(dados.dtypes, columns = ['Tipos de Dados'])\n",
        "tipos_de_dados.columns.name = 'Variáveis'\n",
        "\n",
        "print(tipos_de_dados)\n",
        "print('\\n')\n",
        "print('A base de dados apresenta {} registros e {} variáveis.' .format(dados.shape[0], dados.shape[1]))"
      ],
      "execution_count": null,
      "outputs": [
        {
          "output_type": "stream",
          "name": "stdout",
          "text": [
            "Variáveis  Tipos de Dados\n",
            "Tipo               object\n",
            "Bairro             object\n",
            "Quartos             int64\n",
            "Vagas               int64\n",
            "Suites              int64\n",
            "Area                int64\n",
            "Valor             float64\n",
            "Condominio        float64\n",
            "IPTU              float64\n",
            "\n",
            "\n",
            "A base de dados apresenta 32960 registros e 9 variáveis.\n"
          ]
        }
      ]
    },
    {
      "cell_type": "code",
      "metadata": {
        "colab": {
          "base_uri": "https://localhost:8080/"
        },
        "id": "974zoQLrZnyF",
        "outputId": "37300aa2-eb4e-42b0-b122-765e42b23ef1"
      },
      "source": [
        "# Extra\n",
        "\n",
        "df_json = pd.read_json('../dados/aluguel.json')\n",
        "df_txt = pd.read_table('../dados/aluguel.txt')\n",
        "df_xlsx = pd.read_excel('../dados/aluguel.xlsx')\n",
        "\n",
        "df_html_1 = pd.read_html('../dados/dados_html_1.html')\n",
        "df_html_2 = pd.read_html('../dados/dados_html_2.html')\n",
        "\n",
        "print(df_html_1)\n",
        "print('\\n')\n",
        "print(df_html_2[0]) # len = 3"
      ],
      "execution_count": null,
      "outputs": [
        {
          "output_type": "stream",
          "name": "stdout",
          "text": [
            "[  FAIXA ETÁRIA UNAFISCO SAÚDE SOFT II SOFT PARTICIPATIVO      UNIQUE\n",
            "0      00 A 18               R$218,99           R$192,60    R$334,48\n",
            "1      19 A 23               R$263,63           R$207,67    R$380,06\n",
            "2      24 A 28               R$322,44           R$224,26    R$464,39\n",
            "3      29 A 33               R$402,05           R$258,63    R$566,68\n",
            "4      34 A 38               R$455,17           R$306,37    R$664,61\n",
            "5      39 A 43               R$489,29           R$417,93    R$742,72\n",
            "6      44 A 48               R$582,65           R$495,24    R$869,47\n",
            "7      49 A 53               R$718,86           R$562,64  R$1.046,29\n",
            "8      54 A 58               R$908,54           R$721,00  R$1.355,74\n",
            "9   59 OU MAIS             R$1.244,50         R$1.151,62  R$2.003,53]\n",
            "\n",
            "\n",
            "                  Date  ...                                       Reserve balances maintained 4\n",
            "                  Date  ... Balances maintained that exceed the top of the penalty- free band 6\n",
            "0              Month 7  ...                                            Month 7                 \n",
            "1            Apr. 2017  ...                                            2157202                 \n",
            "2             May 2017  ...                                            2099222                 \n",
            "3            June 2017  ...                                            2076852                 \n",
            "4            July 2017  ...                                            2101027                 \n",
            "5            Aug. 2017  ...                                            2212375                 \n",
            "6           Sept. 2017  ...                                            2161785                 \n",
            "7            Oct. 2017  ...                                            2117497                 \n",
            "8            Nov. 2017  ...                                            2179474                 \n",
            "9            Dec. 2017  ...                                            2108555                 \n",
            "10           Jan. 2018  ...                                            2075794                 \n",
            "11           Feb. 2018  ...                                            2102989                 \n",
            "12           Mar. 2018  ...                                            2035232                 \n",
            "13           Apr. 2018  ...                                            1947710                 \n",
            "14                 NaN  ...                                                NaN                 \n",
            "15  Two weeks ending 8  ...                                 Two weeks ending 8                 \n",
            "16       Mar. 14, 2018  ...                                            2098542                 \n",
            "17       Mar. 28, 2018  ...                                            1985086                 \n",
            "18       Apr. 11, 2018  ...                                            1973798                 \n",
            "19       Apr. 25, 2018  ...                                            1956249                 \n",
            "20         May 9, 2018  ...                                            1866409                 \n",
            "\n",
            "[21 rows x 7 columns]\n"
          ]
        }
      ]
    },
    {
      "cell_type": "markdown",
      "metadata": {
        "id": "l9PZbmJThHrl"
      },
      "source": [
        "# 2.3 - Series e Index"
      ]
    },
    {
      "cell_type": "code",
      "metadata": {
        "colab": {
          "base_uri": "https://localhost:8080/"
        },
        "id": "-nRJQKVMhO5K",
        "outputId": "972e4f1c-f2d8-41f8-93ae-3bb7ae600fcc"
      },
      "source": [
        "tipo_de_imovel = pd.DataFrame(dados['Tipo'])\n",
        "tipo_de_imovel.drop_duplicates(inplace=True)\n",
        "\n",
        "tipo_de_imovel.index = range(0, len(tipo_de_imovel))\n",
        "tipo_de_imovel.columns.name = 'id'\n",
        "\n",
        "print(tipo_de_imovel)"
      ],
      "execution_count": null,
      "outputs": [
        {
          "output_type": "stream",
          "name": "stdout",
          "text": [
            "id                         Tipo\n",
            "0                     Quitinete\n",
            "1                          Casa\n",
            "2       Conjunto Comercial/Sala\n",
            "3                   Apartamento\n",
            "4            Casa de Condomínio\n",
            "5                Prédio Inteiro\n",
            "6                          Flat\n",
            "7                    Loja/Salão\n",
            "8       Galpão/Depósito/Armazém\n",
            "9                Casa Comercial\n",
            "10                 Casa de Vila\n",
            "11               Terreno Padrão\n",
            "12                  Box/Garagem\n",
            "13                         Loft\n",
            "14  Loja Shopping/ Ct Comercial\n",
            "15                      Chácara\n",
            "16        Loteamento/Condomínio\n",
            "17                        Sítio\n",
            "18                Pousada/Chalé\n",
            "19                       Studio\n",
            "20                        Hotel\n",
            "21                    Indústria\n"
          ]
        }
      ]
    },
    {
      "cell_type": "code",
      "metadata": {
        "colab": {
          "base_uri": "https://localhost:8080/"
        },
        "id": "qu6ioVAQrCjc",
        "outputId": "ad707eb9-7b1f-42a0-ad3a-d4b8934aed85"
      },
      "source": [
        "# Extra\n",
        "\n",
        "data1 = [1, 2, 3, 4, 5]\n",
        "index = ['Linha' + str(i) for i in range(len(data1))]\n",
        "s1 = pd.Series(data=data1, index=index)\n",
        "\n",
        "data2 = {'Linha'+str(i): i for i in range(5)}\n",
        "s2 = pd.Series(data2)\n",
        "\n",
        "op = s1 + s2\n",
        "\n",
        "\n",
        "data3 = [[1, 2, 3],\n",
        "         [4, 5, 6],\n",
        "         [7, 8, 9]]\n",
        "index = ['Linha'+str(i) for i in range(len(data3))]\n",
        "columns = ['Coluna'+str(i) for i in range(len(data3))]\n",
        "df3 = pd.DataFrame(data3, index=index, columns=columns)\n",
        "\n",
        "data4 = {'Coluna0': {'Linha0': 1, 'Linha1': 4, 'Linha2': 7},\n",
        "         'Coluna1': {'Linha0': 2, 'Linha1': 5, 'Linha2': 8},\n",
        "         'Coluna2': {'Linha0': 3, 'Linha1': 6, 'Linha2': 9}}\n",
        "df4 = pd.DataFrame(data4)\n",
        "\n",
        "data5 = [(1, 2, 3), \n",
        "         (4, 5, 6),\n",
        "         (7, 8, 9)]\n",
        "df5 = pd.DataFrame(data5, index=index, columns=columns)\n",
        "\n",
        "df3[df3 > 0] = 'A'\n",
        "df4[df4 > 0] = 'B'\n",
        "df5[df5 > 0] = 'C'\n",
        "\n",
        "df6 = pd.concat([df3, df4, df5])\n",
        "print(df6)\n",
        "df7 = pd.concat([df3, df4, df5], axis=1)\n",
        "print(df7)"
      ],
      "execution_count": null,
      "outputs": [
        {
          "output_type": "stream",
          "name": "stdout",
          "text": [
            "       Coluna0 Coluna1 Coluna2\n",
            "Linha0       A       A       A\n",
            "Linha1       A       A       A\n",
            "Linha2       A       A       A\n",
            "Linha0       B       B       B\n",
            "Linha1       B       B       B\n",
            "Linha2       B       B       B\n",
            "Linha0       C       C       C\n",
            "Linha1       C       C       C\n",
            "Linha2       C       C       C\n",
            "       Coluna0 Coluna1 Coluna2 Coluna0 Coluna1 Coluna2 Coluna0 Coluna1 Coluna2\n",
            "Linha0       A       A       A       B       B       B       C       C       C\n",
            "Linha1       A       A       A       B       B       B       C       C       C\n",
            "Linha2       A       A       A       B       B       B       C       C       C\n"
          ]
        }
      ]
    },
    {
      "cell_type": "markdown",
      "metadata": {
        "id": "UWbBGtcxwwyi"
      },
      "source": [
        "# 2.4 - Filtrando Dados"
      ]
    },
    {
      "cell_type": "code",
      "metadata": {
        "colab": {
          "base_uri": "https://localhost:8080/"
        },
        "id": "YHl1T1Iu4PXJ",
        "outputId": "233e5955-e5ea-42f1-f39f-5a4c83f6fde1"
      },
      "source": [
        "residencial = ['Quitinete', \n",
        "'Casa',\n",
        "'Apartamento',\n",
        "'Casa de Condomínio',\n",
        "'Casa de Vila']\n",
        "\n",
        "selecao = dados['Tipo'].isin(residencial)\n",
        "dados_residencial = dados[selecao]\n",
        "dados_residencial.index = range(0, dados_residencial.shape[0])\n",
        "\n",
        "dados_residencial.to_csv('../dados/aluguel_residencial.csv', sep=';', index=False)\n",
        "\n",
        "data8 = [[1, 2, 3],\n",
        "         [4, 5, 6],\n",
        "         [7, 8, 9]]\n",
        "df8 = pd.DataFrame(data8, list('321'), list('ZYX'))\n",
        "\n",
        "df8.sort_index(inplace=True)\n",
        "df8.sort_index(inplace=True, axis=1)\n",
        "df8.sort_values(by='X', inplace=True)\n",
        "df8.sort_values(by=['X', 'Y'], inplace=True)\n",
        "df8.sort_values(by='3', axis=1, inplace=True)\n",
        "\n",
        "print(df8)"
      ],
      "execution_count": null,
      "outputs": [
        {
          "output_type": "stream",
          "name": "stdout",
          "text": [
            "   Z  Y  X\n",
            "3  1  2  3\n",
            "2  4  5  6\n",
            "1  7  8  9\n"
          ]
        }
      ]
    },
    {
      "cell_type": "markdown",
      "metadata": {
        "id": "YlzJZBpB5AQt"
      },
      "source": [
        "# 2.5 - Frequência de Imóveis"
      ]
    },
    {
      "cell_type": "code",
      "metadata": {
        "colab": {
          "base_uri": "https://localhost:8080/"
        },
        "id": "Wl_mIio35Gm8",
        "outputId": "085edcc6-f85c-4ebb-ddd7-f562f08e9898"
      },
      "source": [
        "dados_res = pd.read_csv('../dados/aluguel_residencial.csv', sep=';')\n",
        "\n",
        "sel1 = dados_res['Tipo'] == 'Apartamento'\n",
        "f1 = dados_res[sel1].shape[0]\n",
        "\n",
        "sel2 = (dados_res['Tipo'] == 'Casa') | (dados_res['Tipo'] == 'Casa de Condomínio') | (dados_res['Tipo'] == 'Casa de Vila')\n",
        "f2 = dados_res[sel2].shape[0]\n",
        "\n",
        "sel3 = (dados_res['Area'] >= 60) & (dados_res['Area'] <= 100)\n",
        "f3 = dados_res[sel3].shape[0]\n",
        "\n",
        "sel4 = (dados_res['Quartos'] >= 4) & (dados_res['Valor'] < 2000)\n",
        "f4 = dados_res[sel4].shape[0]\n",
        "\n",
        "print('''Qtd de imóveis classificados com tipo 'Apartamento' --> {}\n",
        "Qtd de imóveis classificados com tipos 'Casa', 'Casa de Condomínio' e 'Casa de Vila' --> {}\n",
        "Qtd de imóveis com área entre 60 e 100 metros quadrados, incluindo os limites --> {}\n",
        "Qtd de imóveis que tenham pelo menos 4 quartos e aluguel menor que R$ 2.000,00 --> {} ''' \n",
        ".format(f1, f2, f3, f4))"
      ],
      "execution_count": null,
      "outputs": [
        {
          "output_type": "stream",
          "name": "stdout",
          "text": [
            "Qtd de imóveis classificados com tipo 'Apartamento' --> 19532\n",
            "Qtd de imóveis classificados com tipos 'Casa', 'Casa de Condomínio' e 'Casa de Vila' --> 2212\n",
            "Qtd de imóveis com área entre 60 e 100 metros quadrados, incluindo os limites --> 8719\n",
            "Qtd de imóveis que tenham pelo menos 4 quartos e aluguel menor que R$ 2.000,00 --> 41 \n"
          ]
        }
      ]
    },
    {
      "cell_type": "code",
      "metadata": {
        "colab": {
          "base_uri": "https://localhost:8080/"
        },
        "id": "QL82Y2aM-iUz",
        "outputId": "2bf5c272-46bf-41b0-d90b-532679240244"
      },
      "source": [
        "# Extra\n",
        "\n",
        "data9 = [(1, 2, 3, 4),\n",
        "        (5, 6, 7, 8),\n",
        "        (8, 10, 11, 12),\n",
        "        (13, 14, 15, 16)]\n",
        "df9 = pd.DataFrame(data9, 'l1 l2 l3 l4'.split(), 'c1 c2 c3 c4'.split())\n",
        "\n",
        "print(\n",
        "    df9['c1'], '\\n'*2,\n",
        "    df9[['c3', 'c1']], '\\n'*2,\n",
        "    df9[:], '\\n'*2,\n",
        "    df9[1:3], '\\n'*2,\n",
        "    df9[1:][['c3', 'c1']], '\\n'*2,\n",
        "    df9.loc['l3'], '\\n'*2,\n",
        "    df9.loc[['l3', 'l2']], '\\n'*2,\n",
        "    df9.loc['l1', 'c2'], '\\n'*2,\n",
        "    df9.iloc[0, 1], '\\n'*2,\n",
        "    df9.loc[['l3', 'l1'], ['c4', 'c1']], '\\n'*2,\n",
        "    df9.iloc[[2, 0], [3, 0]]\n",
        ")"
      ],
      "execution_count": null,
      "outputs": [
        {
          "output_type": "stream",
          "name": "stdout",
          "text": [
            "l1     1\n",
            "l2     5\n",
            "l3     8\n",
            "l4    13\n",
            "Name: c1, dtype: int64 \n",
            "\n",
            "     c3  c1\n",
            "l1   3   1\n",
            "l2   7   5\n",
            "l3  11   8\n",
            "l4  15  13 \n",
            "\n",
            "     c1  c2  c3  c4\n",
            "l1   1   2   3   4\n",
            "l2   5   6   7   8\n",
            "l3   8  10  11  12\n",
            "l4  13  14  15  16 \n",
            "\n",
            "     c1  c2  c3  c4\n",
            "l2   5   6   7   8\n",
            "l3   8  10  11  12 \n",
            "\n",
            "     c3  c1\n",
            "l2   7   5\n",
            "l3  11   8\n",
            "l4  15  13 \n",
            "\n",
            " c1     8\n",
            "c2    10\n",
            "c3    11\n",
            "c4    12\n",
            "Name: l3, dtype: int64 \n",
            "\n",
            "     c1  c2  c3  c4\n",
            "l3   8  10  11  12\n",
            "l2   5   6   7   8 \n",
            "\n",
            " 2 \n",
            "\n",
            " 2 \n",
            "\n",
            "     c4  c1\n",
            "l3  12   8\n",
            "l1   4   1 \n",
            "\n",
            "     c4  c1\n",
            "l3  12   8\n",
            "l1   4   1\n"
          ]
        }
      ]
    },
    {
      "cell_type": "markdown",
      "metadata": {
        "id": "XYRInuMbBe2D"
      },
      "source": [
        "# 2.6 - Tratando de Dados Faltantes"
      ]
    },
    {
      "cell_type": "code",
      "metadata": {
        "colab": {
          "base_uri": "https://localhost:8080/"
        },
        "id": "Zm3D3iMaHAso",
        "outputId": "e22216d7-050a-49f8-ccd2-2ca2cebefe86"
      },
      "source": [
        "# Remover imóveis sem aluguel (Valor)\n",
        "# Remover apartamentos com condomínio nulo\n",
        "# Trocar cond nulo pra 0 e iptu nulo pra 0\n",
        "\n",
        "dados_residencial = pd.read_csv('../dados/aluguel_residencial.csv', sep = ';')\n",
        "print(dados_residencial.shape[0])\n",
        "dados_residencial.dropna(subset=['Valor'], inplace=True)\n",
        "\n",
        "print(dados_residencial.shape[0])\n",
        "sel5 = (dados_residencial['Tipo'] == 'Apartamento') & (dados_residencial['Condominio'].isnull())\n",
        "dados_residencial = dados_residencial[~sel5]\n",
        "\n",
        "print(dados_residencial.shape[0])\n",
        "dados_residencial.fillna(value={'Condominio': 0, 'IPTU': 0}, inplace=True)\n",
        "\n",
        "print('\\n')\n",
        "print(dados_residencial.info())\n",
        "\n",
        "dados_residencial.to_csv('../dados/aluguel_residencial_notnull.csv', sep = ';', index=False)"
      ],
      "execution_count": null,
      "outputs": [
        {
          "output_type": "stream",
          "name": "stdout",
          "text": [
            "22580\n",
            "22571\n",
            "21826\n",
            "\n",
            "\n",
            "<class 'pandas.core.frame.DataFrame'>\n",
            "Int64Index: 21826 entries, 0 to 22579\n",
            "Data columns (total 9 columns):\n",
            " #   Column      Non-Null Count  Dtype  \n",
            "---  ------      --------------  -----  \n",
            " 0   Tipo        21826 non-null  object \n",
            " 1   Bairro      21826 non-null  object \n",
            " 2   Quartos     21826 non-null  int64  \n",
            " 3   Vagas       21826 non-null  int64  \n",
            " 4   Suites      21826 non-null  int64  \n",
            " 5   Area        21826 non-null  int64  \n",
            " 6   Valor       21826 non-null  float64\n",
            " 7   Condominio  21826 non-null  float64\n",
            " 8   IPTU        21826 non-null  float64\n",
            "dtypes: float64(3), int64(4), object(2)\n",
            "memory usage: 1.7+ MB\n",
            "None\n"
          ]
        }
      ]
    },
    {
      "cell_type": "code",
      "metadata": {
        "colab": {
          "base_uri": "https://localhost:8080/"
        },
        "id": "WCVWSimfNVz7",
        "outputId": "999a480f-f8c8-4b50-b466-6cbc0c4c4bf3"
      },
      "source": [
        "# Extra\n",
        "\n",
        "data10 = [0.5, None, None, 0.52, 0.54, None, None, 0.59, 0.6, None, 0.7]\n",
        "s10 = pd.Series(data10)\n",
        "s11 = s10\n",
        "\n",
        "print(s10.fillna(0),\n",
        "      s10.fillna(method='ffill'), '\\n',\n",
        "      s10.fillna(method='bfill'), '\\n',\n",
        "      s10.fillna(s10.mean()), '\\n',\n",
        "      s10.fillna(method='ffill', limit=1), '\\n',\n",
        "      s11.fillna(method='ffill', limit=1), '\\n',\n",
        "      s11.fillna(method='ffill', limit=10), '\\n',\n",
        ")"
      ],
      "execution_count": null,
      "outputs": [
        {
          "output_type": "stream",
          "name": "stdout",
          "text": [
            "0     0.50\n",
            "1     0.00\n",
            "2     0.00\n",
            "3     0.52\n",
            "4     0.54\n",
            "5     0.00\n",
            "6     0.00\n",
            "7     0.59\n",
            "8     0.60\n",
            "9     0.00\n",
            "10    0.70\n",
            "dtype: float64 0     0.50\n",
            "1     0.50\n",
            "2     0.50\n",
            "3     0.52\n",
            "4     0.54\n",
            "5     0.54\n",
            "6     0.54\n",
            "7     0.59\n",
            "8     0.60\n",
            "9     0.60\n",
            "10    0.70\n",
            "dtype: float64 \n",
            " 0     0.50\n",
            "1     0.52\n",
            "2     0.52\n",
            "3     0.52\n",
            "4     0.54\n",
            "5     0.59\n",
            "6     0.59\n",
            "7     0.59\n",
            "8     0.60\n",
            "9     0.70\n",
            "10    0.70\n",
            "dtype: float64 \n",
            " 0     0.500\n",
            "1     0.575\n",
            "2     0.575\n",
            "3     0.520\n",
            "4     0.540\n",
            "5     0.575\n",
            "6     0.575\n",
            "7     0.590\n",
            "8     0.600\n",
            "9     0.575\n",
            "10    0.700\n",
            "dtype: float64 \n",
            " 0     0.50\n",
            "1     0.50\n",
            "2      NaN\n",
            "3     0.52\n",
            "4     0.54\n",
            "5     0.54\n",
            "6      NaN\n",
            "7     0.59\n",
            "8     0.60\n",
            "9     0.60\n",
            "10    0.70\n",
            "dtype: float64 \n",
            " 0     0.50\n",
            "1     0.50\n",
            "2      NaN\n",
            "3     0.52\n",
            "4     0.54\n",
            "5     0.54\n",
            "6      NaN\n",
            "7     0.59\n",
            "8     0.60\n",
            "9     0.60\n",
            "10    0.70\n",
            "dtype: float64 \n",
            " 0     0.50\n",
            "1     0.50\n",
            "2     0.50\n",
            "3     0.52\n",
            "4     0.54\n",
            "5     0.54\n",
            "6     0.54\n",
            "7     0.59\n",
            "8     0.60\n",
            "9     0.60\n",
            "10    0.70\n",
            "dtype: float64 \n",
            "\n"
          ]
        }
      ]
    },
    {
      "cell_type": "markdown",
      "metadata": {
        "id": "wI1LIRQKYISy"
      },
      "source": [
        "# 2.7 - Novas Variáveis"
      ]
    },
    {
      "cell_type": "code",
      "metadata": {
        "colab": {
          "base_uri": "https://localhost:8080/"
        },
        "id": "XWzesMI6YM36",
        "outputId": "ce635d6f-4681-4bcb-d714-ffec2b82d629"
      },
      "source": [
        "dados = pd.read_csv('../dados/aluguel_residencial_notnull.csv', sep = ';')\n",
        "\n",
        "dados['Valor Bruto'] = dados['Valor'] + dados['Condominio'] + dados['IPTU']\n",
        "dados['Valor m2'] = (dados['Valor']/dados['Area']).round(2)\n",
        "dados['Valor Bruto m2'] = (dados['Valor Bruto']/dados['Area']).round(2)\n",
        "\n",
        "casa = ['Casa', 'Casa de Condominio', 'Casa de Vila']\n",
        "\n",
        "dados['Tipo Agregado'] = dados['Tipo'].apply(lambda x: 'Casa' if x in casa else 'Apartamento')\n",
        "\n",
        "dados_aux = pd.DataFrame(dados[['Tipo Agregado', 'Valor m2', 'Valor Bruto', 'Valor Bruto m2']])\n",
        "del dados_aux['Valor Bruto']\n",
        "dados_aux.pop('Valor m2')\n",
        "dados.drop(['Valor Bruto', 'Valor m2'], axis=1, inplace=True)\n",
        "\n",
        "dados.to_csv('../dados/aluguel_residencial_notnull.csv', sep = ';', index=False)\n",
        "\n",
        "print(dados_aux.head(), '\\n')\n",
        "print(dados.head())"
      ],
      "execution_count": null,
      "outputs": [
        {
          "output_type": "stream",
          "name": "stdout",
          "text": [
            "  Tipo Agregado  Valor Bruto m2\n",
            "0   Apartamento           56.50\n",
            "1          Casa           70.00\n",
            "2   Apartamento           80.67\n",
            "3   Apartamento           21.46\n",
            "4   Apartamento           32.36 \n",
            "\n",
            "          Tipo           Bairro  Quartos  ...  IPTU  Valor Bruto m2  Tipo Agregado\n",
            "0    Quitinete       Copacabana        1  ...  60.0           56.50    Apartamento\n",
            "1         Casa  Jardim Botânico        2  ...   0.0           70.00           Casa\n",
            "2  Apartamento           Centro        1  ...  20.0           80.67    Apartamento\n",
            "3  Apartamento     Higienópolis        1  ...   0.0           21.46    Apartamento\n",
            "4  Apartamento         Cachambi        2  ...  17.0           32.36    Apartamento\n",
            "\n",
            "[5 rows x 11 columns]\n"
          ]
        }
      ]
    },
    {
      "cell_type": "code",
      "metadata": {
        "colab": {
          "base_uri": "https://localhost:8080/"
        },
        "id": "n3IsbqIaNkUy",
        "outputId": "bbfb32ef-3da8-4df8-8307-9074775d5c5b"
      },
      "source": [
        "# Extra\n",
        "\n",
        "s12 = pd.Series(list('asdadeadesdasesda'))\n",
        "print(s12.value_counts())\n",
        "\n",
        "dados = pd.read_csv('../dados/aluguel_residencial_notnull.csv', sep = ';')\n",
        "print('\\n', dados.Tipo.value_counts())"
      ],
      "execution_count": null,
      "outputs": [
        {
          "output_type": "stream",
          "name": "stdout",
          "text": [
            "a    5\n",
            "d    5\n",
            "s    4\n",
            "e    3\n",
            "dtype: int64\n",
            "\n",
            " Apartamento           18780\n",
            "Casa de Condomínio      996\n",
            "Casa                    965\n",
            "Quitinete               836\n",
            "Casa de Vila            249\n",
            "Name: Tipo, dtype: int64\n"
          ]
        }
      ]
    },
    {
      "cell_type": "markdown",
      "metadata": {
        "id": "UOMPTcc5Ql0y"
      },
      "source": [
        "# 2.8 - Estatísticas Descritivas"
      ]
    },
    {
      "cell_type": "code",
      "metadata": {
        "colab": {
          "base_uri": "https://localhost:8080/",
          "height": 818
        },
        "id": "ZlHaMMUTQpVI",
        "outputId": "ae951f58-ae9e-4761-b766-956849e7e4a6"
      },
      "source": [
        "dados = pd.read_csv('../dados/aluguel_residencial_notnull.csv', sep = ';')\n",
        "\n",
        "bairros = ['Barra da Tijuca', 'Copacabana', 'Ipanema', 'Leblon', 'Botafogo', 'Flamengo', 'Tijuca']\n",
        "selecao = dados['Bairro'].isin(bairros)\n",
        "dados = dados[selecao]\n",
        "\n",
        "grupo_bairro = dados.groupby('Bairro')\n",
        "print(grupo_bairro[['Valor', 'Condominio']].mean().round(2))\n",
        "\n",
        "grupo_bairro['Valor'].describe().round(2)\n",
        "print(grupo_bairro['Valor'].agg(['min', 'max', 'sum']).rename(columns = {'min': 'Minimo', 'max': 'Maximo', 'sum': 'Soma'}))\n",
        "\n",
        "data = grupo_bairro.mean()[['Valor', 'Condominio']]\n",
        "plt.figure()\n",
        "plt.bar(data.index, height=data['Valor'], color='grey')\n",
        "plt.xlabel('Bairros', fontsize=20)\n",
        "plt.ylabel('Valor médio do aluguel', fontsize=20)\n",
        "pass"
      ],
      "execution_count": null,
      "outputs": [
        {
          "output_type": "stream",
          "name": "stdout",
          "text": [
            "                   Valor  Condominio\n",
            "Bairro                              \n",
            "Barra da Tijuca  7069.55     3591.01\n",
            "Botafogo         8791.83      976.28\n",
            "Copacabana       4126.68     1148.68\n",
            "Flamengo         4113.53     1102.15\n",
            "Ipanema          9352.00     2244.44\n",
            "Leblon           8746.34     2107.18\n",
            "Tijuca           2043.52      711.69\n",
            "                 Minimo     Maximo        Soma\n",
            "Bairro                                        \n",
            "Barra da Tijuca   800.0   600000.0  27309683.0\n",
            "Botafogo          700.0  4500000.0   7675266.0\n",
            "Copacabana        100.0    35000.0  10910934.0\n",
            "Flamengo          800.0    35000.0   2937058.0\n",
            "Ipanema          1200.0    90000.0  16496930.0\n",
            "Leblon            100.0   100000.0  11002902.0\n",
            "Tijuca            750.0    45000.0   2247872.0\n"
          ]
        },
        {
          "output_type": "display_data",
          "data": {
            "image/png": "[encoded data removed]",
            "text/plain": [
              "<Figure size 864x576 with 1 Axes>"
            ]
          },
          "metadata": {
            "needs_background": "light"
          }
        }
      ]
    },
    {
      "cell_type": "code",
      "metadata": {
        "colab": {
          "base_uri": "https://localhost:8080/"
        },
        "id": "h-LbQ4oKmxG1",
        "outputId": "09444ffd-ad20-455e-c38c-0d33d68e49b0"
      },
      "source": [
        "# Extra\n",
        "\n",
        "dados = pd.read_csv('../dados/aluguel_residencial_notnull.csv', sep = ';')\n",
        "classes = [0, 2, 4, 6, np.inf]\n",
        "\n",
        "labels = ['0 a 2 quartos', '3 ou 4 quartos', '4 ou 5 quartos', '6 ou mais']\n",
        "quartos = pd.cut(dados['Quartos'], labels=labels, bins=classes, include_lowest=True)\n",
        "print(pd.value_counts(quartos))"
      ],
      "execution_count": null,
      "outputs": [
        {
          "output_type": "stream",
          "name": "stdout",
          "text": [
            "0 a 2 quartos     11409\n",
            "3 ou 4 quartos     9681\n",
            "4 ou 5 quartos      686\n",
            "6 ou mais            50\n",
            "Name: Quartos, dtype: int64\n"
          ]
        }
      ]
    },
    {
      "cell_type": "markdown",
      "metadata": {
        "id": "g6CCCdN_06yj"
      },
      "source": [
        "# 2.9 - Removendo Outliers"
      ]
    },
    {
      "cell_type": "code",
      "metadata": {
        "colab": {
          "base_uri": "https://localhost:8080/",
          "height": 1000
        },
        "id": "97-kR23C3Em2",
        "outputId": "7ec01acb-09d2-41c5-8d26-ba0fd1d39ca5"
      },
      "source": [
        "def clean_outliers(df, series='Valor'):\n",
        "  val_series = df['Valor']\n",
        "  Q1 = val_series.quantile(0.25)\n",
        "  Q3 = val_series.quantile(0.50)\n",
        "  IIQ = Q3 - Q1\n",
        "  lim_sup = Q3 + 1.5*IIQ\n",
        "  lim_inf = Q1 - 1.5*IIQ\n",
        "\n",
        "  selecao = (val_series >= lim_inf) & (val_series <= lim_sup)\n",
        "  df = df[selecao]\n",
        "  return df\n",
        "\n",
        "dados = pd.read_csv('../dados/aluguel_residencial_notnull.csv', sep = ';')\n",
        "dados_limpo = clean_outliers(dados, series='Valor')\n",
        "dados_limpo.boxplot(['Valor'])\n",
        "\n",
        "grupo_tipo = dados.groupby(by='Tipo')\n",
        "dados_new = pd.DataFrame()\n",
        "for tipo, df in grupo_tipo.__iter__():\n",
        "  df = clean_outliers(df, series='Valor')\n",
        "  dados_new = pd.concat([dados_new, df])\n",
        "\n",
        "dados_new.boxplot(['Valor'], by=['Tipo'])\n",
        "dados_new.to_csv('../dados/aluguel_residencial_sem_outliers.csv', sep = ';', index = False)"
      ],
      "execution_count": null,
      "outputs": [
        {
          "output_type": "stream",
          "name": "stderr",
          "text": [
            "/usr/local/lib/python3.7/dist-packages/numpy/core/_asarray.py:83: VisibleDeprecationWarning: Creating an ndarray from ragged nested sequences (which is a list-or-tuple of lists-or-tuples-or ndarrays with different lengths or shapes) is deprecated. If you meant to do this, you must specify 'dtype=object' when creating the ndarray\n",
            "  return array(a, dtype, copy=False, order=order)\n"
          ]
        },
        {
          "output_type": "display_data",
          "data": {
            "image/png": "[encoded data removed]",
            "text/plain": [
              "<Figure size 864x576 with 1 Axes>"
            ]
          },
          "metadata": {
            "needs_background": "light"
          }
        },
        {
          "output_type": "display_data",
          "data": {
            "image/png": "[encoded data removed]",
            "text/plain": [
              "<Figure size 864x576 with 1 Axes>"
            ]
          },
          "metadata": {
            "needs_background": "light"
          }
        }
      ]
    },
    {
      "cell_type": "code",
      "metadata": {
        "colab": {
          "base_uri": "https://localhost:8080/",
          "height": 499
        },
        "id": "v2XSwIVm_NkE",
        "outputId": "73084ae7-98e7-431d-eab9-42752fc7d071"
      },
      "source": [
        "# Extra\n",
        "\n",
        "dados = pd.read_csv('../dados/aluguel_residencial_sem_outliers.csv', sep = ';')\n",
        "\n",
        "area = plt.figure()\n",
        "\n",
        "g1 = area.add_subplot(2, 2, 1)\n",
        "g1.scatter(dados.Valor, dados.Area)\n",
        "g1.set_title('Valor X Área')\n",
        "\n",
        "g2 = area.add_subplot(2, 2, 2)\n",
        "g2.hist(dados.Valor)\n",
        "g2.set_title('Histograma')\n",
        "\n",
        "g3 = area.add_subplot(2, 2, 3)\n",
        "dados_g3 = dados.Valor.sample(100)\n",
        "dados_g3.index = range(dados_g3.shape[0])\n",
        "g3.plot(dados_g3)\n",
        "g3.set_title('Amostra (Valor)')\n",
        "\n",
        "g4 = plt.subplot(2, 2, 4)\n",
        "grupo = dados.groupby('Tipo')['Valor']\n",
        "label = grupo.mean().index\n",
        "valores = grupo.mean().values\n",
        "g4.bar(label, valores)\n",
        "g4.set_title('Valor Médio por Tipo')\n",
        "\n",
        "area.savefig('../dados/grafico.png', dpi = 300, bbox_inches = 'tight')"
      ],
      "execution_count": null,
      "outputs": [
        {
          "output_type": "display_data",
          "data": {
            "image/png": "[encoded data removed]",
            "text/plain": [
              "<Figure size 864x576 with 4 Axes>"
            ]
          },
          "metadata": {
            "needs_background": "light"
          }
        }
      ]
    }
  ]
}